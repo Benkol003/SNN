{
 "cells": [
  {
   "cell_type": "code",
   "execution_count": 1,
   "metadata": {},
   "outputs": [],
   "source": [
    "import torch\n",
    "import torch.nn as nn\n",
    "from torch.utils.data import DataLoader\n",
    "from torchvision import datasets, transforms\n",
    "\n",
    "import snntorch as snn\n",
    "from snntorch import utils\n",
    "from snntorch import spikegen\n",
    "import snntorch.spikeplot as splt\n",
    "from snntorch import surrogate\n",
    "from snntorch import functional\n",
    "\n",
    "import matplotlib.pyplot as plt\n",
    "import numpy as np\n",
    "\n",
    "from trainer import *\n",
    "\n",
    "from deepr import DeepR\n",
    "\n",
    "import pickle\n",
    "\n",
    "import tonic"
   ]
  },
  {
   "cell_type": "code",
   "execution_count": 2,
   "metadata": {},
   "outputs": [
    {
     "name": "stdout",
     "output_type": "stream",
     "text": [
      " CSNN Trained on NMNIST\n",
      "Using device: cuda\n",
      "Train batches: 235\n",
      "Test batches: 40\n"
     ]
    }
   ],
   "source": [
    "\n",
    "print(\" CSNN Trained on NMNIST\")\n",
    "\n",
    "# setting device on GPU if available, else CPU\n",
    "device = torch.device('cuda' if torch.cuda.is_available() else 'cpu')\n",
    "print('Using device:', device)\n",
    "\n",
    "# Training Parameters\n",
    "batch_size=256\n",
    "data_path='./tmp/data/nmnist'\n",
    "slice_meta_path = \"./tmp/NMNIST_sliced/\"\n",
    "num_classes = 10  # MNIST has 10 output classes\n",
    "\n",
    "frame_time = 10\n",
    "\n",
    "num_steps = 60 #i.e. the number of frames to feed the SNN\n",
    "\n",
    "#\n",
    "transform1 = tonic.transforms.Compose([tonic.transforms.ToFrame(sensor_size=(34,34,2),n_time_bins=num_steps),lambda x: x.astype(np.float32)]) \n",
    "\n",
    "nmnist_train = tonic.datasets.NMNIST(data_path, train=True)\n",
    "nmnist_test = tonic.datasets.NMNIST(data_path, train=False)\n",
    "\n",
    "\n",
    "train_nmnist_mem = tonic.MemoryCachedDataset(nmnist_train)\n",
    "test_nmnist_mem = tonic.MemoryCachedDataset(nmnist_test)\n",
    "\n",
    "slicer = tonic.slicers.SliceByTime(60*frame_time*1000,59*frame_time*1000,False)\n",
    "#59 allow an overlap such that we start a new slice at every possible frame.\n",
    "#however,\n",
    " \n",
    "#NOTE careful , you will need to regenerate the metadata after changing parameters, takes about 30 seconds to generate the slices\n",
    "#slice our dataset into a samples of frame groups - we do not need an entire sample at once\n",
    "train_sliced_nmnist = tonic.SlicedDataset(train_nmnist_mem,transform=transform1,slicer=slicer,)#metadata_path=slice_meta_path+\"train/\")\n",
    "test_sliced_nmnist = tonic.SlicedDataset(test_nmnist_mem,transform=transform1,slicer=slicer,)#metadata_path=slice_meta_path+\"test/\")\n",
    "\n",
    "#dont bother using disk cached dataset, it doesnt speed things up\n",
    "#dont bother changing the overlap window either... \n",
    "#yes,dataloading is the slowest part of training\n",
    "\n",
    "\n",
    "train_sampler = torch.utils.data.RandomSampler(train_nmnist_mem, generator=gtrain,replacement=False)\n",
    "test_sampler = torch.utils.data.RandomSampler(test_nmnist_mem, generator=gtest,replacement=False)\n",
    "\n",
    "train_loader = DataLoader(nmnist_train,shuffle=False,batch_size=batch_size,drop_last=False,pin_memory=True,sampler=train_sampler,num_workers=1)\n",
    "test_loader = DataLoader(nmnist_test,shuffle=False,batch_size=batch_size,drop_last=False,pin_memory=True,sampler=test_sampler,num_workers=1)\n",
    "\n",
    "print(\"Train batches:\",len(train_loader))\n",
    "print(\"Test batches:\",len(test_loader))"
   ]
  },
  {
   "cell_type": "markdown",
   "metadata": {},
   "source": [
    "Useful to know what a convolutional layers output dimension is given by $n_{out}=\\frac{n_{in}+2p-k}{s}+1$, \n",
    "with default padding=0 stride=1 $n_{out}=n_{in}-k+1$.\n",
    "For max pool with defaults, $\\lfloor\\frac{n}{2}\\rfloor$."
   ]
  },
  {
   "cell_type": "code",
   "execution_count": 3,
   "metadata": {},
   "outputs": [
    {
     "ename": "TypeError",
     "evalue": "Caught TypeError in DataLoader worker process 0.\nOriginal Traceback (most recent call last):\n  File \"/home/UnladenCoconut/git/arch-venv/lib/python3.11/site-packages/torch/utils/data/_utils/worker.py\", line 308, in _worker_loop\n    data = fetcher.fetch(index)\n           ^^^^^^^^^^^^^^^^^^^^\n  File \"/home/UnladenCoconut/git/arch-venv/lib/python3.11/site-packages/torch/utils/data/_utils/fetch.py\", line 54, in fetch\n    return self.collate_fn(data)\n           ^^^^^^^^^^^^^^^^^^^^^\n  File \"/home/UnladenCoconut/git/arch-venv/lib/python3.11/site-packages/torch/utils/data/_utils/collate.py\", line 277, in default_collate\n    return collate(batch, collate_fn_map=default_collate_fn_map)\n           ^^^^^^^^^^^^^^^^^^^^^^^^^^^^^^^^^^^^^^^^^^^^^^^^^^^^^\n  File \"/home/UnladenCoconut/git/arch-venv/lib/python3.11/site-packages/torch/utils/data/_utils/collate.py\", line 144, in collate\n    return [collate(samples, collate_fn_map=collate_fn_map) for samples in transposed]  # Backwards compatibility.\n           ^^^^^^^^^^^^^^^^^^^^^^^^^^^^^^^^^^^^^^^^^^^^^^^^^^^^^^^^^^^^^^^^^^^^^^^^^^^\n  File \"/home/UnladenCoconut/git/arch-venv/lib/python3.11/site-packages/torch/utils/data/_utils/collate.py\", line 144, in <listcomp>\n    return [collate(samples, collate_fn_map=collate_fn_map) for samples in transposed]  # Backwards compatibility.\n            ^^^^^^^^^^^^^^^^^^^^^^^^^^^^^^^^^^^^^^^^^^^^^^^\n  File \"/home/UnladenCoconut/git/arch-venv/lib/python3.11/site-packages/torch/utils/data/_utils/collate.py\", line 121, in collate\n    return collate_fn_map[elem_type](batch, collate_fn_map=collate_fn_map)\n           ^^^^^^^^^^^^^^^^^^^^^^^^^^^^^^^^^^^^^^^^^^^^^^^^^^^^^^^^^^^^^^^\n  File \"/home/UnladenCoconut/git/arch-venv/lib/python3.11/site-packages/torch/utils/data/_utils/collate.py\", line 183, in collate_numpy_array_fn\n    return collate([torch.as_tensor(b) for b in batch], collate_fn_map=collate_fn_map)\n                   ^^^^^^^^^^^^^^^^^^^^^^^^^^^^^^^^^^^\n  File \"/home/UnladenCoconut/git/arch-venv/lib/python3.11/site-packages/torch/utils/data/_utils/collate.py\", line 183, in <listcomp>\n    return collate([torch.as_tensor(b) for b in batch], collate_fn_map=collate_fn_map)\n                    ^^^^^^^^^^^^^^^^^^\nTypeError: can't convert np.ndarray of type numpy.void. The only supported types are: float64, float32, float16, complex64, complex128, int64, int32, int16, int8, uint8, and bool.\n",
     "output_type": "error",
     "traceback": [
      "\u001b[0;31m---------------------------------------------------------------------------\u001b[0m",
      "\u001b[0;31mTypeError\u001b[0m                                 Traceback (most recent call last)",
      "Cell \u001b[0;32mIn[3], line 2\u001b[0m\n\u001b[1;32m      1\u001b[0m \u001b[38;5;66;03m#if you want to create more samples you can change the overlap\u001b[39;00m\n\u001b[0;32m----> 2\u001b[0m a \u001b[38;5;241m=\u001b[39m \u001b[38;5;28;43mnext\u001b[39;49m\u001b[43m(\u001b[49m\u001b[38;5;28;43miter\u001b[39;49m\u001b[43m(\u001b[49m\u001b[43mtest_loader\u001b[49m\u001b[43m)\u001b[49m\u001b[43m)\u001b[49m\n\u001b[1;32m      3\u001b[0m \u001b[38;5;28mprint\u001b[39m(a[\u001b[38;5;241m0\u001b[39m]\u001b[38;5;241m.\u001b[39mshape)\n",
      "File \u001b[0;32m~/git/arch-venv/lib/python3.11/site-packages/torch/utils/data/dataloader.py:631\u001b[0m, in \u001b[0;36m_BaseDataLoaderIter.__next__\u001b[0;34m(self)\u001b[0m\n\u001b[1;32m    628\u001b[0m \u001b[38;5;28;01mif\u001b[39;00m \u001b[38;5;28mself\u001b[39m\u001b[38;5;241m.\u001b[39m_sampler_iter \u001b[38;5;129;01mis\u001b[39;00m \u001b[38;5;28;01mNone\u001b[39;00m:\n\u001b[1;32m    629\u001b[0m     \u001b[38;5;66;03m# TODO(https://github.com/pytorch/pytorch/issues/76750)\u001b[39;00m\n\u001b[1;32m    630\u001b[0m     \u001b[38;5;28mself\u001b[39m\u001b[38;5;241m.\u001b[39m_reset()  \u001b[38;5;66;03m# type: ignore[call-arg]\u001b[39;00m\n\u001b[0;32m--> 631\u001b[0m data \u001b[38;5;241m=\u001b[39m \u001b[38;5;28;43mself\u001b[39;49m\u001b[38;5;241;43m.\u001b[39;49m\u001b[43m_next_data\u001b[49m\u001b[43m(\u001b[49m\u001b[43m)\u001b[49m\n\u001b[1;32m    632\u001b[0m \u001b[38;5;28mself\u001b[39m\u001b[38;5;241m.\u001b[39m_num_yielded \u001b[38;5;241m+\u001b[39m\u001b[38;5;241m=\u001b[39m \u001b[38;5;241m1\u001b[39m\n\u001b[1;32m    633\u001b[0m \u001b[38;5;28;01mif\u001b[39;00m \u001b[38;5;28mself\u001b[39m\u001b[38;5;241m.\u001b[39m_dataset_kind \u001b[38;5;241m==\u001b[39m _DatasetKind\u001b[38;5;241m.\u001b[39mIterable \u001b[38;5;129;01mand\u001b[39;00m \\\n\u001b[1;32m    634\u001b[0m         \u001b[38;5;28mself\u001b[39m\u001b[38;5;241m.\u001b[39m_IterableDataset_len_called \u001b[38;5;129;01mis\u001b[39;00m \u001b[38;5;129;01mnot\u001b[39;00m \u001b[38;5;28;01mNone\u001b[39;00m \u001b[38;5;129;01mand\u001b[39;00m \\\n\u001b[1;32m    635\u001b[0m         \u001b[38;5;28mself\u001b[39m\u001b[38;5;241m.\u001b[39m_num_yielded \u001b[38;5;241m>\u001b[39m \u001b[38;5;28mself\u001b[39m\u001b[38;5;241m.\u001b[39m_IterableDataset_len_called:\n",
      "File \u001b[0;32m~/git/arch-venv/lib/python3.11/site-packages/torch/utils/data/dataloader.py:1346\u001b[0m, in \u001b[0;36m_MultiProcessingDataLoaderIter._next_data\u001b[0;34m(self)\u001b[0m\n\u001b[1;32m   1344\u001b[0m \u001b[38;5;28;01melse\u001b[39;00m:\n\u001b[1;32m   1345\u001b[0m     \u001b[38;5;28;01mdel\u001b[39;00m \u001b[38;5;28mself\u001b[39m\u001b[38;5;241m.\u001b[39m_task_info[idx]\n\u001b[0;32m-> 1346\u001b[0m     \u001b[38;5;28;01mreturn\u001b[39;00m \u001b[38;5;28;43mself\u001b[39;49m\u001b[38;5;241;43m.\u001b[39;49m\u001b[43m_process_data\u001b[49m\u001b[43m(\u001b[49m\u001b[43mdata\u001b[49m\u001b[43m)\u001b[49m\n",
      "File \u001b[0;32m~/git/arch-venv/lib/python3.11/site-packages/torch/utils/data/dataloader.py:1372\u001b[0m, in \u001b[0;36m_MultiProcessingDataLoaderIter._process_data\u001b[0;34m(self, data)\u001b[0m\n\u001b[1;32m   1370\u001b[0m \u001b[38;5;28mself\u001b[39m\u001b[38;5;241m.\u001b[39m_try_put_index()\n\u001b[1;32m   1371\u001b[0m \u001b[38;5;28;01mif\u001b[39;00m \u001b[38;5;28misinstance\u001b[39m(data, ExceptionWrapper):\n\u001b[0;32m-> 1372\u001b[0m     \u001b[43mdata\u001b[49m\u001b[38;5;241;43m.\u001b[39;49m\u001b[43mreraise\u001b[49m\u001b[43m(\u001b[49m\u001b[43m)\u001b[49m\n\u001b[1;32m   1373\u001b[0m \u001b[38;5;28;01mreturn\u001b[39;00m data\n",
      "File \u001b[0;32m~/git/arch-venv/lib/python3.11/site-packages/torch/_utils.py:722\u001b[0m, in \u001b[0;36mExceptionWrapper.reraise\u001b[0;34m(self)\u001b[0m\n\u001b[1;32m    718\u001b[0m \u001b[38;5;28;01mexcept\u001b[39;00m \u001b[38;5;167;01mTypeError\u001b[39;00m:\n\u001b[1;32m    719\u001b[0m     \u001b[38;5;66;03m# If the exception takes multiple arguments, don't try to\u001b[39;00m\n\u001b[1;32m    720\u001b[0m     \u001b[38;5;66;03m# instantiate since we don't know how to\u001b[39;00m\n\u001b[1;32m    721\u001b[0m     \u001b[38;5;28;01mraise\u001b[39;00m \u001b[38;5;167;01mRuntimeError\u001b[39;00m(msg) \u001b[38;5;28;01mfrom\u001b[39;00m \u001b[38;5;28;01mNone\u001b[39;00m\n\u001b[0;32m--> 722\u001b[0m \u001b[38;5;28;01mraise\u001b[39;00m exception\n",
      "\u001b[0;31mTypeError\u001b[0m: Caught TypeError in DataLoader worker process 0.\nOriginal Traceback (most recent call last):\n  File \"/home/UnladenCoconut/git/arch-venv/lib/python3.11/site-packages/torch/utils/data/_utils/worker.py\", line 308, in _worker_loop\n    data = fetcher.fetch(index)\n           ^^^^^^^^^^^^^^^^^^^^\n  File \"/home/UnladenCoconut/git/arch-venv/lib/python3.11/site-packages/torch/utils/data/_utils/fetch.py\", line 54, in fetch\n    return self.collate_fn(data)\n           ^^^^^^^^^^^^^^^^^^^^^\n  File \"/home/UnladenCoconut/git/arch-venv/lib/python3.11/site-packages/torch/utils/data/_utils/collate.py\", line 277, in default_collate\n    return collate(batch, collate_fn_map=default_collate_fn_map)\n           ^^^^^^^^^^^^^^^^^^^^^^^^^^^^^^^^^^^^^^^^^^^^^^^^^^^^^\n  File \"/home/UnladenCoconut/git/arch-venv/lib/python3.11/site-packages/torch/utils/data/_utils/collate.py\", line 144, in collate\n    return [collate(samples, collate_fn_map=collate_fn_map) for samples in transposed]  # Backwards compatibility.\n           ^^^^^^^^^^^^^^^^^^^^^^^^^^^^^^^^^^^^^^^^^^^^^^^^^^^^^^^^^^^^^^^^^^^^^^^^^^^\n  File \"/home/UnladenCoconut/git/arch-venv/lib/python3.11/site-packages/torch/utils/data/_utils/collate.py\", line 144, in <listcomp>\n    return [collate(samples, collate_fn_map=collate_fn_map) for samples in transposed]  # Backwards compatibility.\n            ^^^^^^^^^^^^^^^^^^^^^^^^^^^^^^^^^^^^^^^^^^^^^^^\n  File \"/home/UnladenCoconut/git/arch-venv/lib/python3.11/site-packages/torch/utils/data/_utils/collate.py\", line 121, in collate\n    return collate_fn_map[elem_type](batch, collate_fn_map=collate_fn_map)\n           ^^^^^^^^^^^^^^^^^^^^^^^^^^^^^^^^^^^^^^^^^^^^^^^^^^^^^^^^^^^^^^^\n  File \"/home/UnladenCoconut/git/arch-venv/lib/python3.11/site-packages/torch/utils/data/_utils/collate.py\", line 183, in collate_numpy_array_fn\n    return collate([torch.as_tensor(b) for b in batch], collate_fn_map=collate_fn_map)\n                   ^^^^^^^^^^^^^^^^^^^^^^^^^^^^^^^^^^^\n  File \"/home/UnladenCoconut/git/arch-venv/lib/python3.11/site-packages/torch/utils/data/_utils/collate.py\", line 183, in <listcomp>\n    return collate([torch.as_tensor(b) for b in batch], collate_fn_map=collate_fn_map)\n                    ^^^^^^^^^^^^^^^^^^\nTypeError: can't convert np.ndarray of type numpy.void. The only supported types are: float64, float32, float16, complex64, complex128, int64, int32, int16, int8, uint8, and bool.\n"
     ]
    }
   ],
   "source": [
    "\n",
    "#if you want to create more samples you can change the overlap\n",
    "a = next(iter(test_loader))\n",
    "print(a[0].shape)"
   ]
  },
  {
   "cell_type": "code",
   "execution_count": null,
   "metadata": {},
   "outputs": [],
   "source": [
    "################ MNIST Model ##############################################################\n",
    "\n",
    "# layer parameters\n",
    "num_steps = 16  # for spike encoding\n",
    "beta = 0.95 #leak rate\n",
    "lr=5e-3\n",
    "\n",
    "spike_grad1 = surrogate.atan() \n",
    "\n",
    "class Net(nn.Module):\n",
    "\n",
    "    def __init__(self,c = None):\n",
    "        super().__init__()\n",
    "\n",
    "        self.loss = functional.ce_count_loss()\n",
    "        self.accuracy_metric = functional.accuracy_rate\n",
    "\n",
    "        #initialise neuron connections\n",
    "        self.layers = nn.ModuleList([\n",
    "            nn.Conv2d(1, 12, 5), #28 square -> 24 square\n",
    "            nn.MaxPool2d(2), # 12 square\n",
    "            nn.Conv2d(12,64,5), # 8 square\n",
    "            nn.MaxPool2d(2), #4 square\n",
    "            nn.Linear(64*4*4,10)\n",
    "        ])\n",
    "\n",
    "        # initialize neurons\n",
    "        self.neurons = nn.ModuleList([\n",
    "            snn.Leaky(beta=beta,spike_grad=spike_grad1),\n",
    "            snn.Leaky(beta=beta,spike_grad=spike_grad1),\n",
    "            snn.Leaky(beta=beta,spike_grad=spike_grad1)\n",
    "        ])\n",
    "\n",
    "        self.to(device)\n",
    "\n",
    "        #pytorch creates the tensors to represent the network layout and weights for each layer; snntorch provides the model that operates on the entire tensor (at each layer).\n",
    "        if c is not None:\n",
    "            self.deepr = DeepR(self.layers,lr,[0,2,4],connectivity=c,device=device)\n",
    "  \n",
    "    def forward(self,x): #x is input data, assume is batched\n",
    "\n",
    "        #spike encoding at input layer\n",
    "        x_spk = spikegen.rate(x,num_steps=num_steps) \n",
    "        \n",
    "        # Initialize hidden states\n",
    "        mem1 = self.neurons[0].init_leaky()\n",
    "        mem2 = self.neurons[1].init_leaky()\n",
    "        mem3 = self.neurons[2].init_leaky()\n",
    "        \n",
    "        # record spike outputs and membrane potentials\n",
    "        spk3_rec = []\n",
    "\n",
    "        for step in range(num_steps):\n",
    "            x = x_spk[step] #for encoded input\n",
    "            cur1 = self.layers[1](self.layers[0](x))\n",
    "\n",
    "            spk1, mem1 = self.neurons[0](cur1, mem1)\n",
    "\n",
    "            cur2 = self.layers[3](self.layers[2](spk1))\n",
    "            spk2, mem2 = self.neurons[1](cur2, mem2)\n",
    "\n",
    "            cur3 = self.layers[4](spk2.view(spk2.size()[0],-1)) #flatten!\n",
    "            spk3, mem3 = self.neurons[2](cur3, mem3)\n",
    "\n",
    "            spk3_rec.append(spk3)\n",
    "\n",
    "        return torch.stack(spk3_rec, dim=0)\n",
    "    \n",
    "###################################################################################\n",
    "\n"
   ]
  },
  {
   "cell_type": "code",
   "execution_count": null,
   "metadata": {},
   "outputs": [
    {
     "data": {
      "application/vnd.jupyter.widget-view+json": {
       "model_id": "5453fc41675d475fbbfb8c802dd5c627",
       "version_major": 2,
       "version_minor": 0
      },
      "text/plain": [
       "Training progress::   0%|          | 0/705 [00:00<?, ?it/s]"
      ]
     },
     "metadata": {},
     "output_type": "display_data"
    },
    {
     "ename": "OutOfMemoryError",
     "evalue": "CUDA out of memory. Tried to allocate 2.12 GiB. GPU 0 has a total capacity of 5.79 GiB of which 282.12 MiB is free. Process 76821 has 1006.00 MiB memory in use. Including non-PyTorch memory, this process has 4.45 GiB memory in use. Of the allocated memory 4.37 GiB is allocated by PyTorch, and 1.88 MiB is reserved by PyTorch but unallocated. If reserved but unallocated memory is large try setting PYTORCH_CUDA_ALLOC_CONF=expandable_segments:True to avoid fragmentation.  See documentation for Memory Management  (https://pytorch.org/docs/stable/notes/cuda.html#environment-variables)",
     "output_type": "error",
     "traceback": [
      "\u001b[0;31m---------------------------------------------------------------------------\u001b[0m",
      "\u001b[0;31mOutOfMemoryError\u001b[0m                          Traceback (most recent call last)",
      "Cell \u001b[0;32mIn[5], line 6\u001b[0m\n\u001b[1;32m      4\u001b[0m optimiser \u001b[38;5;241m=\u001b[39m torch\u001b[38;5;241m.\u001b[39moptim\u001b[38;5;241m.\u001b[39mAdam(net\u001b[38;5;241m.\u001b[39mparameters(),lr\u001b[38;5;241m=\u001b[39mlr,weight_decay\u001b[38;5;241m=\u001b[39m\u001b[38;5;241m0\u001b[39m)\n\u001b[1;32m      5\u001b[0m gen_reset() \u001b[38;5;66;03m#reset the PRNG generators for the random samplers so we consistently get the same sequence of samples for each experiment run\u001b[39;00m\n\u001b[0;32m----> 6\u001b[0m net \u001b[38;5;241m=\u001b[39m \u001b[43mtrainer\u001b[49m\u001b[43m(\u001b[49m\u001b[43mnet\u001b[49m\u001b[43m,\u001b[49m\u001b[43mtrain_loader\u001b[49m\u001b[38;5;241;43m=\u001b[39;49m\u001b[43mtrain_loader\u001b[49m\u001b[43m,\u001b[49m\u001b[43mvalid_loader\u001b[49m\u001b[38;5;241;43m=\u001b[39;49m\u001b[43mtest_loader\u001b[49m\u001b[43m,\u001b[49m\u001b[43mmodel_path\u001b[49m\u001b[38;5;241;43m=\u001b[39;49m\u001b[43mmodel_path\u001b[49m\u001b[43m,\u001b[49m\u001b[43moptimiser\u001b[49m\u001b[38;5;241;43m=\u001b[39;49m\u001b[43moptimiser\u001b[49m\u001b[43m,\u001b[49m\u001b[43mepochs\u001b[49m\u001b[38;5;241;43m=\u001b[39;49m\u001b[38;5;241;43m3\u001b[39;49m\u001b[43m,\u001b[49m\u001b[43mdeepr\u001b[49m\u001b[38;5;241;43m=\u001b[39;49m\u001b[38;5;28;43;01mFalse\u001b[39;49;00m\u001b[43m,\u001b[49m\u001b[43mdevice\u001b[49m\u001b[38;5;241;43m=\u001b[39;49m\u001b[43mdevice\u001b[49m\u001b[43m)\u001b[49m\n\u001b[1;32m      7\u001b[0m gen_reset()\n\u001b[1;32m      8\u001b[0m baseline_accuracy \u001b[38;5;241m=\u001b[39m test_stats(net,test_loader\u001b[38;5;241m=\u001b[39mtest_loader,device\u001b[38;5;241m=\u001b[39mdevice)\n",
      "File \u001b[0;32m/mnt/windows/Users/Benko/git/benkol003/SNN/trainer.py:111\u001b[0m, in \u001b[0;36mtrainer\u001b[0;34m(net, train_loader, valid_loader, optimiser, scheduler, epochs, iterations, valid_after, valid_iterations, deepr, model_path, device)\u001b[0m\n\u001b[1;32m    109\u001b[0m \u001b[38;5;66;03m#forward pass\u001b[39;00m\n\u001b[1;32m    110\u001b[0m net\u001b[38;5;241m.\u001b[39mtrain()\n\u001b[0;32m--> 111\u001b[0m logits \u001b[38;5;241m=\u001b[39m \u001b[43mnet\u001b[49m\u001b[43m(\u001b[49m\u001b[43mdata\u001b[49m\u001b[43m)\u001b[49m\n\u001b[1;32m    112\u001b[0m loss \u001b[38;5;241m=\u001b[39m net\u001b[38;5;241m.\u001b[39mloss(logits,targets)\n\u001b[1;32m    114\u001b[0m optimiser\u001b[38;5;241m.\u001b[39mzero_grad()\n",
      "File \u001b[0;32m~/git/arch-venv/lib/python3.11/site-packages/torch/nn/modules/module.py:1511\u001b[0m, in \u001b[0;36mModule._wrapped_call_impl\u001b[0;34m(self, *args, **kwargs)\u001b[0m\n\u001b[1;32m   1509\u001b[0m     \u001b[38;5;28;01mreturn\u001b[39;00m \u001b[38;5;28mself\u001b[39m\u001b[38;5;241m.\u001b[39m_compiled_call_impl(\u001b[38;5;241m*\u001b[39margs, \u001b[38;5;241m*\u001b[39m\u001b[38;5;241m*\u001b[39mkwargs)  \u001b[38;5;66;03m# type: ignore[misc]\u001b[39;00m\n\u001b[1;32m   1510\u001b[0m \u001b[38;5;28;01melse\u001b[39;00m:\n\u001b[0;32m-> 1511\u001b[0m     \u001b[38;5;28;01mreturn\u001b[39;00m \u001b[38;5;28;43mself\u001b[39;49m\u001b[38;5;241;43m.\u001b[39;49m\u001b[43m_call_impl\u001b[49m\u001b[43m(\u001b[49m\u001b[38;5;241;43m*\u001b[39;49m\u001b[43margs\u001b[49m\u001b[43m,\u001b[49m\u001b[43m \u001b[49m\u001b[38;5;241;43m*\u001b[39;49m\u001b[38;5;241;43m*\u001b[39;49m\u001b[43mkwargs\u001b[49m\u001b[43m)\u001b[49m\n",
      "File \u001b[0;32m~/git/arch-venv/lib/python3.11/site-packages/torch/nn/modules/module.py:1520\u001b[0m, in \u001b[0;36mModule._call_impl\u001b[0;34m(self, *args, **kwargs)\u001b[0m\n\u001b[1;32m   1515\u001b[0m \u001b[38;5;66;03m# If we don't have any hooks, we want to skip the rest of the logic in\u001b[39;00m\n\u001b[1;32m   1516\u001b[0m \u001b[38;5;66;03m# this function, and just call forward.\u001b[39;00m\n\u001b[1;32m   1517\u001b[0m \u001b[38;5;28;01mif\u001b[39;00m \u001b[38;5;129;01mnot\u001b[39;00m (\u001b[38;5;28mself\u001b[39m\u001b[38;5;241m.\u001b[39m_backward_hooks \u001b[38;5;129;01mor\u001b[39;00m \u001b[38;5;28mself\u001b[39m\u001b[38;5;241m.\u001b[39m_backward_pre_hooks \u001b[38;5;129;01mor\u001b[39;00m \u001b[38;5;28mself\u001b[39m\u001b[38;5;241m.\u001b[39m_forward_hooks \u001b[38;5;129;01mor\u001b[39;00m \u001b[38;5;28mself\u001b[39m\u001b[38;5;241m.\u001b[39m_forward_pre_hooks\n\u001b[1;32m   1518\u001b[0m         \u001b[38;5;129;01mor\u001b[39;00m _global_backward_pre_hooks \u001b[38;5;129;01mor\u001b[39;00m _global_backward_hooks\n\u001b[1;32m   1519\u001b[0m         \u001b[38;5;129;01mor\u001b[39;00m _global_forward_hooks \u001b[38;5;129;01mor\u001b[39;00m _global_forward_pre_hooks):\n\u001b[0;32m-> 1520\u001b[0m     \u001b[38;5;28;01mreturn\u001b[39;00m \u001b[43mforward_call\u001b[49m\u001b[43m(\u001b[49m\u001b[38;5;241;43m*\u001b[39;49m\u001b[43margs\u001b[49m\u001b[43m,\u001b[49m\u001b[43m \u001b[49m\u001b[38;5;241;43m*\u001b[39;49m\u001b[38;5;241;43m*\u001b[39;49m\u001b[43mkwargs\u001b[49m\u001b[43m)\u001b[49m\n\u001b[1;32m   1522\u001b[0m \u001b[38;5;28;01mtry\u001b[39;00m:\n\u001b[1;32m   1523\u001b[0m     result \u001b[38;5;241m=\u001b[39m \u001b[38;5;28;01mNone\u001b[39;00m\n",
      "Cell \u001b[0;32mIn[4], line 43\u001b[0m, in \u001b[0;36mNet.forward\u001b[0;34m(self, x)\u001b[0m\n\u001b[1;32m     40\u001b[0m \u001b[38;5;28;01mdef\u001b[39;00m \u001b[38;5;21mforward\u001b[39m(\u001b[38;5;28mself\u001b[39m,x): \u001b[38;5;66;03m#x is input data, assume is batched\u001b[39;00m\n\u001b[1;32m     41\u001b[0m \n\u001b[1;32m     42\u001b[0m     \u001b[38;5;66;03m#spike encoding at input layer\u001b[39;00m\n\u001b[0;32m---> 43\u001b[0m     x_spk \u001b[38;5;241m=\u001b[39m \u001b[43mspikegen\u001b[49m\u001b[38;5;241;43m.\u001b[39;49m\u001b[43mrate\u001b[49m\u001b[43m(\u001b[49m\u001b[43mx\u001b[49m\u001b[43m,\u001b[49m\u001b[43mnum_steps\u001b[49m\u001b[38;5;241;43m=\u001b[39;49m\u001b[43mnum_steps\u001b[49m\u001b[43m)\u001b[49m \n\u001b[1;32m     45\u001b[0m     \u001b[38;5;66;03m# Initialize hidden states\u001b[39;00m\n\u001b[1;32m     46\u001b[0m     mem1 \u001b[38;5;241m=\u001b[39m \u001b[38;5;28mself\u001b[39m\u001b[38;5;241m.\u001b[39mneurons[\u001b[38;5;241m0\u001b[39m]\u001b[38;5;241m.\u001b[39minit_leaky()\n",
      "File \u001b[0;32m~/git/arch-venv/lib/python3.11/site-packages/snntorch-0.8.0-py3.11.egg/snntorch/spikegen.py:145\u001b[0m, in \u001b[0;36mrate\u001b[0;34m(data, num_steps, gain, offset, first_spike_time, time_var_input)\u001b[0m\n\u001b[1;32m    128\u001b[0m \u001b[38;5;66;03m# intended for time-static input data\u001b[39;00m\n\u001b[1;32m    129\u001b[0m \u001b[38;5;28;01melse\u001b[39;00m:\n\u001b[1;32m    130\u001b[0m \n\u001b[1;32m    131\u001b[0m     \u001b[38;5;66;03m# Generate a tuple: (num_steps, 1..., 1) where the number of 1's\u001b[39;00m\n\u001b[1;32m    132\u001b[0m     \u001b[38;5;66;03m# = number of dimensions in the original data.\u001b[39;00m\n\u001b[1;32m    133\u001b[0m     \u001b[38;5;66;03m# Multiply by gain and add offset.\u001b[39;00m\n\u001b[1;32m    134\u001b[0m     time_data \u001b[38;5;241m=\u001b[39m (\n\u001b[1;32m    135\u001b[0m         data\u001b[38;5;241m.\u001b[39mrepeat(\n\u001b[1;32m    136\u001b[0m             \u001b[38;5;28mtuple\u001b[39m(\n\u001b[0;32m   (...)\u001b[0m\n\u001b[1;32m    142\u001b[0m         \u001b[38;5;241m+\u001b[39m offset\n\u001b[1;32m    143\u001b[0m     )\n\u001b[0;32m--> 145\u001b[0m     spike_data \u001b[38;5;241m=\u001b[39m \u001b[43mrate_conv\u001b[49m\u001b[43m(\u001b[49m\u001b[43mtime_data\u001b[49m\u001b[43m)\u001b[49m\n\u001b[1;32m    147\u001b[0m     \u001b[38;5;66;03m# zeros are multiplied by the start of the 0th (time) dimension\u001b[39;00m\n\u001b[1;32m    148\u001b[0m     \u001b[38;5;28;01mif\u001b[39;00m first_spike_time \u001b[38;5;241m>\u001b[39m \u001b[38;5;241m0\u001b[39m:\n",
      "File \u001b[0;32m~/git/arch-venv/lib/python3.11/site-packages/snntorch-0.8.0-py3.11.egg/snntorch/spikegen.py:437\u001b[0m, in \u001b[0;36mrate_conv\u001b[0;34m(data)\u001b[0m\n\u001b[1;32m    434\u001b[0m clipped_data \u001b[38;5;241m=\u001b[39m torch\u001b[38;5;241m.\u001b[39mclamp(data, \u001b[38;5;28mmin\u001b[39m\u001b[38;5;241m=\u001b[39m\u001b[38;5;241m0\u001b[39m, \u001b[38;5;28mmax\u001b[39m\u001b[38;5;241m=\u001b[39m\u001b[38;5;241m1\u001b[39m)\n\u001b[1;32m    436\u001b[0m \u001b[38;5;66;03m# pass time_data matrix into bernoulli function.\u001b[39;00m\n\u001b[0;32m--> 437\u001b[0m spike_data \u001b[38;5;241m=\u001b[39m \u001b[43mtorch\u001b[49m\u001b[38;5;241;43m.\u001b[39;49m\u001b[43mbernoulli\u001b[49m\u001b[43m(\u001b[49m\u001b[43mclipped_data\u001b[49m\u001b[43m)\u001b[49m\n\u001b[1;32m    439\u001b[0m \u001b[38;5;28;01mreturn\u001b[39;00m spike_data\n",
      "\u001b[0;31mOutOfMemoryError\u001b[0m: CUDA out of memory. Tried to allocate 2.12 GiB. GPU 0 has a total capacity of 5.79 GiB of which 282.12 MiB is free. Process 76821 has 1006.00 MiB memory in use. Including non-PyTorch memory, this process has 4.45 GiB memory in use. Of the allocated memory 4.37 GiB is allocated by PyTorch, and 1.88 MiB is reserved by PyTorch but unallocated. If reserved but unallocated memory is large try setting PYTORCH_CUDA_ALLOC_CONF=expandable_segments:True to avoid fragmentation.  See documentation for Memory Management  (https://pytorch.org/docs/stable/notes/cuda.html#environment-variables)"
     ]
    }
   ],
   "source": [
    "#with and without deepr\n",
    "model_path = \"./models/SNN_CNN_MNIST.pt\"\n",
    "net = Net()\n",
    "optimiser = torch.optim.Adam(net.parameters(),lr=lr,weight_decay=0)\n",
    "gen_reset() #reset the PRNG generators for the random samplers so we consistently get the same sequence of samples for each experiment run\n",
    "net = trainer(net,train_loader=train_loader,valid_loader=test_loader,model_path=model_path,optimiser=optimiser,epochs=3,deepr=False,device=device)\n",
    "gen_reset()\n",
    "baseline_accuracy = test_stats(net,test_loader=test_loader,device=device)\n",
    "print(\"----\")\n",
    "\n",
    "connectivities = [1,0.9,0.8,0.7,0.6,0.5,0.4,0.3,0.2,0.1,0.09,0.08,0.07,0.06,0.05,0.04,0.03,0.02,0.01]\n",
    "\n",
    "accuracies = []\n",
    "\n",
    "for c in connectivities:\n",
    "    model_path = \"./models/SNN_CNN_MNIST_conn\"+str(c)+\".pt\"\n",
    "    net = Net(c)\n",
    "    optimiser = torch.optim.Adam(net.parameters(),lr=lr,weight_decay=0)\n",
    "    gen_reset()\n",
    "    net = trainer(net,train_loader=train_loader,valid_loader=test_loader,model_path=model_path,optimiser=optimiser,epochs=3,deepr=True,device=device)\n",
    "    gen_reset()\n",
    "    a = test_stats(net,test_loader=test_loader,device=device)\n",
    "    accuracies.append(a)\n",
    "\n",
    "with open(\"./pickles/SNN_CNN_MNIST_baseline\", \"wb\") as f:\n",
    "    pickle.dump(baseline_accuracy,f)\n",
    "\n",
    "with open(\"./pickles/SNN_CNN_MNIST_deepr_accuracies\", \"wb\") as f:\n",
    "    pickle.dump(accuracies,f)"
   ]
  },
  {
   "cell_type": "code",
   "execution_count": null,
   "metadata": {},
   "outputs": [
    {
     "data": {
      "image/png": "[encoded data removed]",
      "text/plain": [
       "<Figure size 1000x500 with 1 Axes>"
      ]
     },
     "metadata": {},
     "output_type": "display_data"
    }
   ],
   "source": [
    "fig = plt.figure(facecolor=\"w\", figsize=(10, 5))\n",
    "plt.plot([c*100 for c in connectivities],[a*100 for a in accuracies],'.r-')\n",
    "plt.axhline(y = baseline_accuracy*100, color = 'b', linestyle = '-')\n",
    "plt.title(\"model accuracy with varying connectivity\")\n",
    "plt.xlabel(\"Connectivity, %\")\n",
    "plt.ylabel(\"Accuracy, %\")\n",
    "plt.xticks(range(0,101,10))\n",
    "plt.yticks(range(0,101,10))\n",
    "plt.grid(True)\n",
    "plt.show()"
   ]
  }
 ],
 "metadata": {
  "kernelspec": {
   "display_name": "Python 3",
   "language": "python",
   "name": "python3"
  },
  "language_info": {
   "codemirror_mode": {
    "name": "ipython",
    "version": 3
   },
   "file_extension": ".py",
   "mimetype": "text/x-python",
   "name": "python",
   "nbconvert_exporter": "python",
   "pygments_lexer": "ipython3",
   "version": "3.11.8"
  }
 },
 "nbformat": 4,
 "nbformat_minor": 2
}
