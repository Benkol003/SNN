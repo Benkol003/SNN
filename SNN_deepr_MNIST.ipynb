{
 "cells": [
  {
   "cell_type": "code",
   "execution_count": 1,
   "metadata": {},
   "outputs": [
    {
     "name": "stderr",
     "output_type": "stream",
     "text": [
      "d:\\Program Files\\Python\\Python310\\lib\\site-packages\\transformers\\utils\\generic.py:441: UserWarning: torch.utils._pytree._register_pytree_node is deprecated. Please use torch.utils._pytree.register_pytree_node instead.\n",
      "  _torch_pytree._register_pytree_node(\n"
     ]
    }
   ],
   "source": [
    "import torch\n",
    "import torch.nn as nn\n",
    "from torch.utils.data import DataLoader\n",
    "from torchvision import datasets, transforms\n",
    "from torch.optim.lr_scheduler import ReduceLROnPlateau\n",
    "\n",
    "import snntorch as snn\n",
    "from snntorch import utils\n",
    "from snntorch import spikegen\n",
    "import snntorch.spikeplot as splt\n",
    "from snntorch import surrogate\n",
    "from snntorch import functional\n",
    "\n",
    "import matplotlib.pyplot as plt\n",
    "import numpy as np\n",
    "\n",
    "from deepr import DeepR"
   ]
  },
  {
   "cell_type": "code",
   "execution_count": 2,
   "metadata": {},
   "outputs": [
    {
     "name": "stdout",
     "output_type": "stream",
     "text": [
      "Feedforward SNN Trained on MNIST\n",
      "Using device: cuda\n"
     ]
    }
   ],
   "source": [
    "\n",
    "\n",
    "DTYPE=torch.float\n",
    "\n",
    "torch.manual_seed(734)\n",
    "print(\"Feedforward SNN Trained on MNIST\")\n",
    "\n",
    "# setting device on GPU if available, else CPU\n",
    "device = torch.device('cuda' if torch.cuda.is_available() else 'cpu')\n",
    "print('Using device:', device)\n",
    "\n",
    "# Training Parameters\n",
    "batch_size=128\n",
    "data_path='./tmp/data/mnist'\n",
    "num_classes = 10  # MNIST has 10 output classes\n",
    "\n",
    "# Define a transform\n",
    "transform = transforms.Compose([\n",
    "            transforms.Resize((28, 28)),\n",
    "            transforms.Grayscale(),\n",
    "            transforms.ToTensor(),\n",
    "            transforms.Normalize((0,), (1,))])\n",
    "\n",
    "mnist_train = datasets.MNIST(data_path, train=True, download=True, transform=transform)\n",
    "mnist_test = datasets.MNIST(data_path, train=False, download=True, transform=transform)\n",
    "\n",
    "# # temporary dataloader if MNIST service is unavailable\n",
    "# !wget www.di.ens.fr/~lelarge/MNIST.tar.gz\n",
    "# !tar -zxvf MNIST.tar.gz\n",
    "\n",
    "train_loader = DataLoader(mnist_train, batch_size=batch_size, shuffle=True,drop_last=True)\n",
    "test_loader = DataLoader(mnist_test, batch_size=batch_size, shuffle=True,drop_last=True)"
   ]
  },
  {
   "cell_type": "markdown",
   "metadata": {},
   "source": [
    "Use a connectivity percentage as it's easier to calculate\\\n",
    "given $\\theta_k \\leftarrow \\theta_k - \\eta \\frac{\\partial}{\\partial \\theta_k} \\mathbb{E}_{X, Y^*}(\\theta) - \\eta \\alpha + \\sqrt{2\\eta T} \\nu_k$,\\\n",
    "$-\\eta \\frac{\\partial}{\\partial \\theta_k} \\mathbb{E}_{X, Y^*}(\\theta)$ is already applied during the backward pass.\\\n",
    "Therefore in our training loop we need to apply $- \\eta \\alpha + \\sqrt{2\\eta T} \\nu_k$ to connection weights.\n",
    "\n",
    "Also we can combine the sign and mask matrix into one where we have each element either 1/-1 for the sign or 0 if inactive."
   ]
  },
  {
   "cell_type": "code",
   "execution_count": 3,
   "metadata": {},
   "outputs": [],
   "source": [
    "################ MNIST Model ##############################################################\n",
    "\n",
    "# layer parameters\n",
    "num_inputs = 28*28\n",
    "num_hidden1 = 300\n",
    "num_hidden2 = 100\n",
    "num_outputs = 10\n",
    "num_steps = 26  # for spike encoding\n",
    "beta = 0.95 #leak rate\n",
    "lr=5e-3\n",
    "#weight_decay=1e-6\n",
    "\n",
    "spike_grad1 = surrogate.atan()\n",
    "\n",
    "class Net(nn.Module):\n",
    "\n",
    "    def __init__(self):\n",
    "        super().__init__()\n",
    "\n",
    "        self.loss = functional.ce_count_loss()\n",
    "        self.accuracy_metric = functional.accuracy_rate\n",
    "\n",
    "        #initialise neuron connections\n",
    "        self.linears = nn.ModuleList([\n",
    "            nn.Linear(num_inputs, num_hidden1),\n",
    "            nn.Linear(num_hidden1,num_hidden2),\n",
    "            nn.Linear(num_hidden2,num_outputs)\n",
    "        ])\n",
    "\n",
    "        \n",
    "\n",
    "        # initialize neurons\n",
    "        self.neurons = nn.ModuleList([\n",
    "            snn.Leaky(beta=beta,spike_grad=spike_grad1),\n",
    "            snn.Leaky(beta=beta,spike_grad=spike_grad1),\n",
    "            snn.Leaky(beta=beta,spike_grad=spike_grad1)\n",
    "        ])\n",
    "\n",
    "        self.to(device)\n",
    "\n",
    "        self.deepr = DeepR(self.linears,lr,connectivity=1,device=device)\n",
    "\n",
    "        #pytorch creates the tensors to represent the network layout and weights for each layer; snntorch provides the model that operates on the entire tensor (at each layer).\n",
    "\n",
    "  \n",
    "    def forward(self,x): #x is input data\n",
    "\n",
    "        #spike encoding at input layer\n",
    "        x_spk = spikegen.latency(x,num_steps=num_steps) \n",
    "        # Initialize hidden states\n",
    "        \n",
    "        mem1 = self.neurons[0].init_leaky()\n",
    "        mem2 = self.neurons[1].init_leaky()\n",
    "        mem3 = self.neurons[2].init_leaky()\n",
    "        \n",
    "        mems = []\n",
    "        for n in self.neurons:\n",
    "            mems.append(n.init_leaky())\n",
    "\n",
    "        # record spike outputs and membrane potentials\n",
    "        mem3_rec = []\n",
    "        spk3_rec = []\n",
    "\n",
    "        for step in range(num_steps):\n",
    "            x = x_spk[step] #for encoded input\n",
    "\n",
    "            cur1 = self.linears[0](x)\n",
    "            spk1, mem1 = self.neurons[0](cur1, mem1)\n",
    "\n",
    "            cur2 = self.linears[1](spk1)\n",
    "            spk2, mem2 = self.neurons[1](cur2, mem2)\n",
    "\n",
    "            cur3 = self.linears[2](spk2)\n",
    "            spk3, mem3 = self.neurons[2](cur3, mem3)\n",
    "\n",
    "            spk3_rec.append(spk3)\n",
    "            mem3_rec.append(mem3)\n",
    "\n",
    "        return torch.stack(spk3_rec, dim=0), torch.stack(mem3_rec, dim=0)\n",
    "    \n",
    "###################################################################################\n",
    "\n"
   ]
  },
  {
   "cell_type": "code",
   "execution_count": 4,
   "metadata": {},
   "outputs": [],
   "source": [
    "########### STATS ##############\n",
    "\n",
    "def print_stats(data, targets):\n",
    "    output, _ = net(data.view(data.size(0), -1))\n",
    "    acc  = net.accuracy_metric(output, targets)\n",
    "    #dev = np.std((targets == idx).detach().cpu().numpy()) #TODO deviation for latency encoding\n",
    "    print(f\"    Accuracy: {acc*100:.2f}%\")\n",
    "\n",
    "def train_printer():\n",
    "    print(f\"Epoch {epoch}, Iteration {iterations}, Minibatch stats:\")\n",
    "    print(f\"    Train Set Loss: {loss_hist[batch_counter]:.2f}\")\n",
    "    print(f\"    Test Set Loss: {test_loss_hist[int(iterations / 50)-1]:.2f}\")\n",
    "    print_stats(data, targets)\n",
    "    print_stats(test_data, test_targets)\n",
    "    print(\"\\n\")\n",
    "\n",
    "\n",
    "##############################\n",
    "\n",
    "\n",
    "# Load the network onto CUDA\n",
    "net = Net().to(device)\n",
    "\n",
    "loss = functional.loss.ce_rate_loss()\n",
    "optimiser = torch.optim.Adam(net.parameters(),lr=lr)\n",
    "\n",
    "num_epochs = 1\n",
    "gradient_accumulation = 10\n",
    "loss_hist = []\n",
    "test_loss_hist = []\n",
    "\n",
    "gradient_accumulation = 10\n",
    "\n",
    "iterations = 0\n",
    "\n",
    "#training loop\n",
    "for epoch in range(num_epochs):\n",
    "    batch_counter=0 #image number within current batch\n",
    "\n",
    "    train_batches = iter(train_loader)\n",
    "\n",
    "    #mini-batch loop\n",
    "    optimiser.zero_grad()\n",
    "    for (i, (data, targets)) in enumerate(train_batches): #torch.Size([128, 1, 28, 28]), torch.Size([128])\n",
    "\n",
    "        data = data.to(device)\n",
    "        targets = targets.to(device)\n",
    "\n",
    "        # forward pass\n",
    "        net.train() #inform pytorch\n",
    "        spk_rec, mem_rec = net(data.view(batch_size, -1))\n",
    "\n",
    "        #calculate loss as cross entropy of membrane potential at each step\n",
    "        loss_val = net.loss(spk_rec,targets)   \n",
    "        loss_val.backward() #calculate backpropogation error gradient\n",
    "\n",
    "        if (i+1)%gradient_accumulation==0:\n",
    "            optimiser.step()\n",
    "\n",
    "            net.deepr.update(device=device) #then apply deepr\n",
    "            optimiser.zero_grad()\n",
    "            iterations +=1\n",
    "\n",
    "        # Store loss history for future plotting\n",
    "        loss_hist.append(loss_val.item())\n",
    "\n",
    "        \n",
    "\n",
    "        # Test set\n",
    "        with torch.no_grad(): #tell pytorch to disable gradient calculation (save compute)\n",
    "            if (iterations+1) % 50 == 0:\n",
    "                net.eval()\n",
    "\n",
    "                test_data, test_targets = next(iter(test_loader))\n",
    "                test_data = test_data.to(device)\n",
    "                test_targets = test_targets.to(device)\n",
    "\n",
    "                # Test set forward pass\n",
    "                test_spk, test_mem = net(test_data.view(batch_size, -1))\n",
    "\n",
    "                # Test set loss\n",
    "                test_loss = net.loss(test_spk,test_targets)\n",
    "                test_loss_hist.append(test_loss.item())\n",
    "                # Print train/test loss/accuracy\n",
    "                train_printer()\n",
    "\n",
    "\n",
    "###############################################################################################"
   ]
  },
  {
   "cell_type": "code",
   "execution_count": 5,
   "metadata": {},
   "outputs": [
    {
     "data": {
      "image/png": "[encoded data removed]",
      "text/plain": [
       "<Figure size 1000x500 with 1 Axes>"
      ]
     },
     "metadata": {},
     "output_type": "display_data"
    },
    {
     "name": "stdout",
     "output_type": "stream",
     "text": [
      "Test Set: \n",
      "    Accuracy: 90.30%\n"
     ]
    }
   ],
   "source": [
    "# Plot Loss\n",
    "fig = plt.figure(facecolor=\"w\", figsize=(10, 5))\n",
    "plt.plot(loss_hist)\n",
    "plt.plot(range(50,iterations,50),test_loss_hist)\n",
    "plt.title(\"Loss Curves\")\n",
    "plt.legend([\"Train Loss\", \"Test Loss\"])\n",
    "plt.xlabel(\"Iteration\")\n",
    "plt.ylabel(\"Loss\")\n",
    "plt.show()\n",
    "\n",
    "total = 0\n",
    "correct = 0\n",
    "\n",
    "# drop_last switched to False to keep all samples\n",
    "test_loader = DataLoader(mnist_test, batch_size=len(mnist_test), shuffle=True, drop_last=False)\n",
    "\n",
    "with torch.no_grad():\n",
    "  net.eval()\n",
    "  for data, targets in test_loader:\n",
    "    data = data.to(device)\n",
    "    targets = targets.to(device)\n",
    "\n",
    "    print(\"Test Set: \")\n",
    "    print_stats(data,targets)\n",
    "\n",
    "###TODO: change loss functions, latency encoding,\n",
    "# can we implement STDP?\n",
    "\n",
    "#Notes:\n",
    "#training time is almost double\n",
    "\n",
    "torch.save(net.state_dict(),\"./SNN_deepr.model\")"
   ]
  },
  {
   "cell_type": "code",
   "execution_count": 6,
   "metadata": {},
   "outputs": [
    {
     "data": {
      "text/plain": [
       "tensor(0.0624, device='cuda:0', grad_fn=<DivBackward0>)"
      ]
     },
     "execution_count": 6,
     "metadata": {},
     "output_type": "execute_result"
    }
   ],
   "source": [
    "#net = Net()\n",
    "#net.load_state_dict(torch.load(\"./SNN_deepr.model\"))\n",
    "\n",
    "torch.sum(torch.abs(net.linears[2].weight))/torch.numel(net.linears[2].weight)\n",
    "#sparsity of final layer below 5%?"
   ]
  },
  {
   "cell_type": "code",
   "execution_count": 7,
   "metadata": {},
   "outputs": [
    {
     "ename": "AttributeError",
     "evalue": "'Net' object has no attribute 'weightMasker'",
     "output_type": "error",
     "traceback": [
      "\u001b[1;31m---------------------------------------------------------------------------\u001b[0m",
      "\u001b[1;31mAttributeError\u001b[0m                            Traceback (most recent call last)",
      "Cell \u001b[1;32mIn[7], line 3\u001b[0m\n\u001b[0;32m      1\u001b[0m \u001b[38;5;66;03m### visualisation of the first layer\u001b[39;00m\n\u001b[1;32m----> 3\u001b[0m connected0 \u001b[38;5;241m=\u001b[39m torch\u001b[38;5;241m.\u001b[39mabs(\u001b[43mnet\u001b[49m\u001b[38;5;241;43m.\u001b[39;49m\u001b[43mweightMasker\u001b[49m\u001b[38;5;241m.\u001b[39mweightSignMasks[\u001b[38;5;241m0\u001b[39m]\u001b[38;5;241m.\u001b[39mcpu())\u001b[38;5;241m.\u001b[39msum(dim\u001b[38;5;241m=\u001b[39m\u001b[38;5;241m0\u001b[39m)\u001b[38;5;241m.\u001b[39mview(\u001b[38;5;241m28\u001b[39m,\u001b[38;5;241m28\u001b[39m)\n\u001b[0;32m      5\u001b[0m plt\u001b[38;5;241m.\u001b[39mimshow(connected0, cmap\u001b[38;5;241m=\u001b[39m\u001b[38;5;124m'\u001b[39m\u001b[38;5;124mgray\u001b[39m\u001b[38;5;124m'\u001b[39m, interpolation\u001b[38;5;241m=\u001b[39m\u001b[38;5;124m'\u001b[39m\u001b[38;5;124mnearest\u001b[39m\u001b[38;5;124m'\u001b[39m)\n\u001b[0;32m      6\u001b[0m plt\u001b[38;5;241m.\u001b[39mcolorbar()\n",
      "File \u001b[1;32md:\\Program Files\\Python\\Python310\\lib\\site-packages\\torch\\nn\\modules\\module.py:1688\u001b[0m, in \u001b[0;36mModule.__getattr__\u001b[1;34m(self, name)\u001b[0m\n\u001b[0;32m   1686\u001b[0m     \u001b[38;5;28;01mif\u001b[39;00m name \u001b[38;5;129;01min\u001b[39;00m modules:\n\u001b[0;32m   1687\u001b[0m         \u001b[38;5;28;01mreturn\u001b[39;00m modules[name]\n\u001b[1;32m-> 1688\u001b[0m \u001b[38;5;28;01mraise\u001b[39;00m \u001b[38;5;167;01mAttributeError\u001b[39;00m(\u001b[38;5;124mf\u001b[39m\u001b[38;5;124m\"\u001b[39m\u001b[38;5;124m'\u001b[39m\u001b[38;5;132;01m{\u001b[39;00m\u001b[38;5;28mtype\u001b[39m(\u001b[38;5;28mself\u001b[39m)\u001b[38;5;241m.\u001b[39m\u001b[38;5;18m__name__\u001b[39m\u001b[38;5;132;01m}\u001b[39;00m\u001b[38;5;124m'\u001b[39m\u001b[38;5;124m object has no attribute \u001b[39m\u001b[38;5;124m'\u001b[39m\u001b[38;5;132;01m{\u001b[39;00mname\u001b[38;5;132;01m}\u001b[39;00m\u001b[38;5;124m'\u001b[39m\u001b[38;5;124m\"\u001b[39m)\n",
      "\u001b[1;31mAttributeError\u001b[0m: 'Net' object has no attribute 'weightMasker'"
     ]
    }
   ],
   "source": [
    "### visualisation of the first layer\n",
    "\n",
    "connected0 = torch.abs(net.weightMasker.weightSignMasks[0].cpu()).sum(dim=0).view(28,28)\n",
    "\n",
    "plt.imshow(connected0, cmap='gray', interpolation='nearest')\n",
    "plt.colorbar()\n",
    "\n"
   ]
  }
 ],
 "metadata": {
  "kernelspec": {
   "display_name": "Python 3",
   "language": "python",
   "name": "python3"
  },
  "language_info": {
   "codemirror_mode": {
    "name": "ipython",
    "version": 3
   },
   "file_extension": ".py",
   "mimetype": "text/x-python",
   "name": "python",
   "nbconvert_exporter": "python",
   "pygments_lexer": "ipython3",
   "version": "3.10.5"
  }
 },
 "nbformat": 4,
 "nbformat_minor": 2
}
