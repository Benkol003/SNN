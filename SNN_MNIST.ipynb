{
 "cells": [
  {
   "cell_type": "code",
   "execution_count": 1,
   "metadata": {},
   "outputs": [
    {
     "name": "stderr",
     "output_type": "stream",
     "text": [
      "d:\\Program Files\\Python\\Python310\\lib\\site-packages\\transformers\\utils\\generic.py:441: UserWarning: torch.utils._pytree._register_pytree_node is deprecated. Please use torch.utils._pytree.register_pytree_node instead.\n",
      "  _torch_pytree._register_pytree_node(\n"
     ]
    }
   ],
   "source": [
    "import torch\n",
    "import torch.nn as nn\n",
    "from torch.utils.data import DataLoader\n",
    "from torchvision import datasets, transforms\n",
    "\n",
    "import snntorch as snn\n",
    "from snntorch import utils\n",
    "from snntorch import spikegen\n",
    "import snntorch.spikeplot as splt\n",
    "from snntorch import surrogate\n",
    "from snntorch import functional\n",
    "\n",
    "import matplotlib.pyplot as plt\n",
    "import numpy as np\n",
    "\n",
    "from trainer import *\n"
   ]
  },
  {
   "cell_type": "code",
   "execution_count": 2,
   "metadata": {},
   "outputs": [
    {
     "name": "stdout",
     "output_type": "stream",
     "text": [
      "Feedforward SNN Trained on MNIST\n",
      "Using device: cuda\n"
     ]
    }
   ],
   "source": [
    "\n",
    "\n",
    "dtype=torch.float\n",
    "print(\"Spiking Feedforward SNN Trained on MNIST\")\n",
    "\n",
    "# setting device on GPU if available, else CPU\n",
    "device = torch.device('cuda' if torch.cuda.is_available() else 'cpu')\n",
    "print('Using device:', device)\n",
    "\n",
    "# Training Parameters\n",
    "batch_size=256\n",
    "data_path='./tmp/data/mnist'\n",
    "num_classes = 10  # MNIST has 10 output classes\n",
    "\n",
    "# Define a transform\n",
    "transform = transforms.Compose([\n",
    "            transforms.Resize((28, 28)),\n",
    "            transforms.Grayscale(),\n",
    "            transforms.ToTensor(),\n",
    "            transforms.Normalize((0,), (1,))])\n",
    "\n",
    "mnist_train = datasets.MNIST(data_path, train=True, download=True, transform=transform)\n",
    "mnist_test = datasets.MNIST(data_path, train=False, download=True, transform=transform)\n",
    "\n",
    "# # temporary dataloader if MNIST service is unavailable\n",
    "# !wget www.di.ens.fr/~lelarge/MNIST.tar.gz\n",
    "# !tar -zxvf MNIST.tar.gz\n",
    "\n",
    "train_sampler = torch.utils.data.RandomSampler(mnist_train, generator=gtrain,replacement=False)\n",
    "test_sampler = torch.utils.data.RandomSampler(mnist_test, generator=gtest,replacement=False)\n",
    "\n",
    "train_loader = DataLoader(mnist_train, batch_size=batch_size, shuffle=False,drop_last=True,pin_memory=True,sampler=train_sampler)\n",
    "test_loader = DataLoader(mnist_test, batch_size=batch_size, shuffle=False,drop_last=True,pin_memory=True,sampler=test_sampler)"
   ]
  },
  {
   "cell_type": "code",
   "execution_count": 3,
   "metadata": {},
   "outputs": [],
   "source": [
    "################ MNIST Model ##############################################################\n",
    "\n",
    "# layer parameters\n",
    "num_inputs = 28*28\n",
    "num_hidden1 = 300\n",
    "num_hidden2 = 100\n",
    "num_outputs = 10\n",
    "num_steps = 26  # for spike encoding\n",
    "beta = 0.95 #leak rate\n",
    "lr=5e-3\n",
    "#weight_decay=1e-6\n",
    "\n",
    "spike_grad1 = surrogate.atan() \n",
    "\n",
    "class Net(nn.Module):\n",
    "\n",
    "    def __init__(self):\n",
    "        super().__init__()\n",
    "\n",
    "        self.loss = functional.ce_count_loss()\n",
    "        self.accuracy_metric = functional.accuracy_rate\n",
    "\n",
    "        #initialise neuron connections\n",
    "        self.linears = nn.ModuleList([\n",
    "            nn.Linear(num_inputs, num_hidden1),\n",
    "            nn.Linear(num_hidden1,num_hidden2),\n",
    "            nn.Linear(num_hidden2,num_outputs)\n",
    "        ])\n",
    "\n",
    "        # initialize neurons\n",
    "        self.neurons = nn.ModuleList([\n",
    "            snn.Leaky(beta=beta,spike_grad=spike_grad1),\n",
    "            snn.Leaky(beta=beta,spike_grad=spike_grad1),\n",
    "            snn.Leaky(beta=beta,spike_grad=spike_grad1)\n",
    "        ])\n",
    "\n",
    "\n",
    "        #pytorch creates the tensors to represent the network layout and weights for each layer; snntorch provides the model that operates on the entire tensor (at each layer).\n",
    "\n",
    "  \n",
    "    def forward(self,x): #x is input data\n",
    "        \n",
    "        x=x.view(x.size(0), -1) #flatten image\n",
    "        \n",
    "        #spike encoding at input layer\n",
    "        x_spk = spikegen.rate(x,num_steps=num_steps) \n",
    "        # Initialize hidden states\n",
    "        mem1 = self.neurons[0].init_leaky()\n",
    "        mem2 = self.neurons[1].init_leaky()\n",
    "        mem3 = self.neurons[2].init_leaky()\n",
    "        \n",
    "        # record spike outputs and membrane potentials\n",
    "        spk3_rec = []\n",
    "\n",
    "        for step in range(num_steps):\n",
    "            x = x_spk[step] #for encoded input\n",
    "\n",
    "            cur1 = self.linears[0](x)\n",
    "            spk1, mem1 = self.neurons[0](cur1, mem1)\n",
    "\n",
    "            cur2 = self.linears[1](spk1)\n",
    "            spk2, mem2 = self.neurons[1](cur2, mem2)\n",
    "\n",
    "            cur3 = self.linears[2](spk2)\n",
    "            spk3, mem3 = self.neurons[2](cur3, mem3)\n",
    "\n",
    "            spk3_rec.append(spk3)\n",
    "\n",
    "        return torch.stack(spk3_rec, dim=0)\n",
    "    \n",
    "###################################################################################\n",
    "\n"
   ]
  },
  {
   "cell_type": "code",
   "execution_count": 4,
   "metadata": {},
   "outputs": [
    {
     "data": {
      "application/vnd.jupyter.widget-view+json": {
       "model_id": "bc6b8e21691b4f40a4f5bbdadfdca200",
       "version_major": 2,
       "version_minor": 0
      },
      "text/plain": [
       "  0%|          | 0/234 [00:00<?, ?it/s]"
      ]
     },
     "metadata": {},
     "output_type": "display_data"
    },
    {
     "name": "stdout",
     "output_type": "stream",
     "text": [
      "Iteration: 0\n",
      "Training loss: 2.29\n",
      "Validation loss: 1.91\n",
      "Validation accuracy: 36.33%\n",
      "Training accuracy: 10.94\n",
      "----------------\n",
      "Iteration: 50\n",
      "Training loss: 0.55\n",
      "Validation loss: 0.42\n",
      "Validation accuracy: 89.45%\n",
      "Training accuracy: 82.81\n",
      "----------------\n",
      "Iteration: 100\n",
      "Training loss: 0.24\n",
      "Validation loss: 0.29\n",
      "Validation accuracy: 91.02%\n",
      "Training accuracy: 92.58\n",
      "----------------\n",
      "Iteration: 150\n",
      "Training loss: 0.26\n",
      "Validation loss: 0.18\n",
      "Validation accuracy: 93.75%\n",
      "Training accuracy: 91.41\n",
      "----------------\n",
      "Iteration: 200\n",
      "Training loss: 0.18\n",
      "Validation loss: 0.10\n",
      "Validation accuracy: 97.27%\n",
      "Training accuracy: 94.53\n",
      "----------------\n"
     ]
    },
    {
     "data": {
      "application/vnd.jupyter.widget-view+json": {
       "model_id": "ae3d3bf91c8b49899b6aad123dc3a8be",
       "version_major": 2,
       "version_minor": 0
      },
      "text/plain": [
       "  0%|          | 0/234 [00:00<?, ?it/s]"
      ]
     },
     "metadata": {},
     "output_type": "display_data"
    },
    {
     "name": "stdout",
     "output_type": "stream",
     "text": [
      "Iteration: 250\n",
      "Training loss: 0.13\n",
      "Validation loss: 0.18\n",
      "Validation accuracy: 94.14%\n",
      "Training accuracy: 95.70\n",
      "----------------\n",
      "Iteration: 300\n",
      "Training loss: 0.16\n",
      "Validation loss: 0.20\n",
      "Validation accuracy: 93.75%\n",
      "Training accuracy: 95.70\n",
      "----------------\n",
      "Iteration: 350\n",
      "Training loss: 0.07\n",
      "Validation loss: 0.16\n",
      "Validation accuracy: 94.53%\n",
      "Training accuracy: 97.27\n",
      "----------------\n",
      "Iteration: 400\n",
      "Training loss: 0.06\n",
      "Validation loss: 0.12\n",
      "Validation accuracy: 94.53%\n",
      "Training accuracy: 97.66\n",
      "----------------\n",
      "Iteration: 450\n",
      "Training loss: 0.11\n",
      "Validation loss: 0.09\n",
      "Validation accuracy: 97.66%\n",
      "Training accuracy: 97.27\n",
      "----------------\n"
     ]
    },
    {
     "data": {
      "application/vnd.jupyter.widget-view+json": {
       "model_id": "2381754562204983b44818e6689eeb5b",
       "version_major": 2,
       "version_minor": 0
      },
      "text/plain": [
       "  0%|          | 0/234 [00:00<?, ?it/s]"
      ]
     },
     "metadata": {},
     "output_type": "display_data"
    },
    {
     "name": "stdout",
     "output_type": "stream",
     "text": [
      "Iteration: 500\n",
      "Training loss: 0.07\n",
      "Validation loss: 0.12\n",
      "Validation accuracy: 97.27%\n",
      "Training accuracy: 96.48\n",
      "----------------\n",
      "Iteration: 550\n",
      "Training loss: 0.12\n",
      "Validation loss: 0.19\n",
      "Validation accuracy: 94.14%\n",
      "Training accuracy: 94.92\n",
      "----------------\n",
      "Iteration: 600\n",
      "Training loss: 0.25\n",
      "Validation loss: 0.11\n",
      "Validation accuracy: 96.88%\n",
      "Training accuracy: 93.75\n",
      "----------------\n",
      "Iteration: 650\n",
      "Training loss: 0.19\n",
      "Validation loss: 0.11\n",
      "Validation accuracy: 96.09%\n",
      "Training accuracy: 95.70\n",
      "----------------\n",
      "Iteration: 700\n",
      "Training loss: 0.15\n",
      "Validation loss: 0.18\n",
      "Validation accuracy: 94.53%\n",
      "Training accuracy: 95.31\n",
      "----------------\n"
     ]
    },
    {
     "data": {
      "image/png": "[encoded data removed]",
      "text/plain": [
       "<Figure size 1000x500 with 1 Axes>"
      ]
     },
     "metadata": {},
     "output_type": "display_data"
    },
    {
     "data": {
      "application/vnd.jupyter.widget-view+json": {
       "model_id": "4f39c68658c443aab89ee23fcafeca0e",
       "version_major": 2,
       "version_minor": 0
      },
      "text/plain": [
       "  0%|          | 0/39 [00:00<?, ?it/s]"
      ]
     },
     "metadata": {},
     "output_type": "display_data"
    },
    {
     "name": "stdout",
     "output_type": "stream",
     "text": [
      "Test Accuracy: 0.97%\n"
     ]
    }
   ],
   "source": [
    "model_path = \"./models/SNN_MNIST.pt\"\n",
    "gen_reset()\n",
    "net = trainer(Net,train_loader=train_loader,valid_loader=test_loader,model_path=model_path,lr=lr,epochs=3,iterations=None,deepr=False,device=device)\n",
    "gen_reset()\n",
    "test_stats(net,test_loader=test_loader,device=device)"
   ]
  }
 ],
 "metadata": {
  "kernelspec": {
   "display_name": "Python 3",
   "language": "python",
   "name": "python3"
  },
  "language_info": {
   "codemirror_mode": {
    "name": "ipython",
    "version": 3
   },
   "file_extension": ".py",
   "mimetype": "text/x-python",
   "name": "python",
   "nbconvert_exporter": "python",
   "pygments_lexer": "ipython3",
   "version": "3.10.5"
  }
 },
 "nbformat": 4,
 "nbformat_minor": 2
}
